{
 "cells": [
  {
   "cell_type": "markdown",
   "id": "7c0dd452",
   "metadata": {},
   "source": [
    "# Table of Contents\n",
    "1. [download/read csv file](#sec1)"
   ]
  },
  {
   "cell_type": "markdown",
   "id": "e1c307b7",
   "metadata": {},
   "source": [
    "<a id = \"sec1\"></a>\n",
    "## **Download/Read CSV file**"
   ]
  },
  {
   "cell_type": "code",
   "execution_count": null,
   "id": "2b3aba15",
   "metadata": {},
   "outputs": [],
   "source": []
  }
 ],
 "metadata": {
  "language_info": {
   "name": "python"
  }
 },
 "nbformat": 4,
 "nbformat_minor": 5
}
