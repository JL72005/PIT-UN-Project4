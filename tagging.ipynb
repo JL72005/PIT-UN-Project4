{
 "cells": [
  {
   "cell_type": "markdown",
   "id": "7c0dd452",
   "metadata": {},
   "source": [
    "# Table of Contents\n",
    "1. [download/read csv file](#sec1)\n",
    "2. [Convert the labeled data set tags into the new individual tag columns](#sec2)\n",
    "3. [NLTK STUFF LMAO](#sec3)"
   ]
  },
  {
   "cell_type": "code",
   "execution_count": 3,
   "id": "943f9c0f",
   "metadata": {},
   "outputs": [
    {
     "name": "stdout",
     "output_type": "stream",
     "text": [
      "Requirement already satisfied: numpy in c:\\users\\jessi\\appdata\\local\\packages\\pythonsoftwarefoundation.python.3.11_qbz5n2kfra8p0\\localcache\\local-packages\\python311\\site-packages (1.26.4)Note: you may need to restart the kernel to use updated packages.\n",
      "\n"
     ]
    },
    {
     "name": "stderr",
     "output_type": "stream",
     "text": [
      "\n",
      "[notice] A new release of pip is available: 25.0.1 -> 25.1.1\n",
      "[notice] To update, run: C:\\Users\\jessi\\AppData\\Local\\Microsoft\\WindowsApps\\PythonSoftwareFoundation.Python.3.11_qbz5n2kfra8p0\\python.exe -m pip install --upgrade pip\n",
      "\n",
      "[notice] A new release of pip is available: 25.0.1 -> 25.1.1\n",
      "[notice] To update, run: C:\\Users\\jessi\\AppData\\Local\\Microsoft\\WindowsApps\\PythonSoftwareFoundation.Python.3.11_qbz5n2kfra8p0\\python.exe -m pip install --upgrade pip\n"
     ]
    },
    {
     "name": "stdout",
     "output_type": "stream",
     "text": [
      "Requirement already satisfied: pandas in c:\\users\\jessi\\appdata\\local\\packages\\pythonsoftwarefoundation.python.3.11_qbz5n2kfra8p0\\localcache\\local-packages\\python311\\site-packages (2.2.3)\n",
      "Requirement already satisfied: numpy>=1.23.2 in c:\\users\\jessi\\appdata\\local\\packages\\pythonsoftwarefoundation.python.3.11_qbz5n2kfra8p0\\localcache\\local-packages\\python311\\site-packages (from pandas) (1.26.4)\n",
      "Requirement already satisfied: python-dateutil>=2.8.2 in c:\\users\\jessi\\appdata\\local\\packages\\pythonsoftwarefoundation.python.3.11_qbz5n2kfra8p0\\localcache\\local-packages\\python311\\site-packages (from pandas) (2.9.0.post0)\n",
      "Requirement already satisfied: pytz>=2020.1 in c:\\users\\jessi\\appdata\\local\\packages\\pythonsoftwarefoundation.python.3.11_qbz5n2kfra8p0\\localcache\\local-packages\\python311\\site-packages (from pandas) (2025.1)\n",
      "Requirement already satisfied: tzdata>=2022.7 in c:\\users\\jessi\\appdata\\local\\packages\\pythonsoftwarefoundation.python.3.11_qbz5n2kfra8p0\\localcache\\local-packages\\python311\\site-packages (from pandas) (2025.1)\n",
      "Requirement already satisfied: six>=1.5 in c:\\users\\jessi\\appdata\\local\\packages\\pythonsoftwarefoundation.python.3.11_qbz5n2kfra8p0\\localcache\\local-packages\\python311\\site-packages (from python-dateutil>=2.8.2->pandas) (1.17.0)\n",
      "Note: you may need to restart the kernel to use updated packages.\n"
     ]
    }
   ],
   "source": [
    "#packages\n",
    "%pip install numpy\n",
    "%pip install pandas\n",
    "import numpy as np\n",
    "import pandas as pd"
   ]
  },
  {
   "cell_type": "markdown",
   "id": "e1c307b7",
   "metadata": {},
   "source": [
    "<a id = \"sec1\"></a>\n",
    "## **Download/Read CSV file**"
   ]
  },
  {
   "cell_type": "code",
   "execution_count": 5,
   "id": "2b3aba15",
   "metadata": {},
   "outputs": [],
   "source": [
    "# read csv\n",
    "data_path= \"https://raw.githubusercontent.com/JL72005/PIT-UN-Project4/refs/heads/main/MODIFIED_dc_md_va_flash_floods_1996_pres.csv?token=GHSAT0AAAAAADCLZGCQLZ3HT2MKGULJWVAQ2B7HCLA\"\n",
    "df = pd.read_csv(data_path)"
   ]
  },
  {
   "cell_type": "markdown",
   "id": "cb6074c5",
   "metadata": {},
   "source": [
    "<a id = \"sec2\"></a>\n",
    "## **Convert the labeled data set tags into the new individual tag columns**"
   ]
  },
  {
   "cell_type": "code",
   "execution_count": 6,
   "id": "ca1bb33a",
   "metadata": {},
   "outputs": [
    {
     "data": {
      "text/plain": [
       "['death',\n",
       " 'injury',\n",
       " 'evacuation',\n",
       " 'rescue',\n",
       " 'car_crash',\n",
       " 'home_damage',\n",
       " 'infrastructure_damage',\n",
       " 'school_damage',\n",
       " 'hospital_damage',\n",
       " 'road_closure',\n",
       " 'power_outage']"
      ]
     },
     "execution_count": 6,
     "metadata": {},
     "output_type": "execute_result"
    }
   ],
   "source": [
    "#list of OG tags\n",
    "['death','injury','evacuation','rescue','car_crash','home_damage','infrastructure_damage','school_damage','hospital_damage','road_closure','power_outage']"
   ]
  },
  {
   "cell_type": "code",
   "execution_count": 7,
   "id": "66ba49eb",
   "metadata": {},
   "outputs": [],
   "source": [
    "#populate columns for OG tags\n",
    "df['death'] = df['IMPACT_PREDICTORS'].apply(str).apply(lambda x: 1 if 'death' in x else 0)\n",
    "df['injury'] = df['IMPACT_PREDICTORS'].apply(str).apply(lambda x: 1 if 'injury' in x else 0)\n",
    "df['evacuation'] = df['IMPACT_PREDICTORS'].apply(str).apply(lambda x: 1 if 'evacuation' in x else 0)\n",
    "df['rescue'] = df['IMPACT_PREDICTORS'].apply(str).apply(lambda x: 1 if 'rescue' in x else 0)\n",
    "df['car_crash'] = df['IMPACT_PREDICTORS'].apply(str).apply(lambda x: 1 if 'car_crash' in x else 0)\n",
    "df['home_damage'] = df['IMPACT_PREDICTORS'].apply(str).apply(lambda x: 1 if 'home_damage' in x else 0)\n",
    "df['infrastructure_damage'] = df['IMPACT_PREDICTORS'].apply(str).apply(lambda x: 1 if 'infrastructure_damage' in x else 0)\n",
    "df['school_damage'] = df['IMPACT_PREDICTORS'].apply(str).apply(lambda x: 1 if 'school_damage' in x else 0)\n",
    "df['hospital_damage'] = df['IMPACT_PREDICTORS'].apply(str).apply(lambda x: 1 if 'hospital_damage' in x else 0)\n",
    "df['road_closure'] = df['IMPACT_PREDICTORS'].apply(str).apply(lambda x: 1 if 'road_closure' in x else 0)\n",
    "df['power_outage'] = df['IMPACT_PREDICTORS'].apply(str).apply(lambda x: 1 if 'power_outage' in x else 0)\n",
    "df['tree_damage'] = df['IMPACT_PREDICTORS'].apply(str).apply(lambda x: 1 if 'tree_damage' in x else 0)\n",
    "df['vehicle_loss'] = df['IMPACT_PREDICTORS'].apply(str).apply(lambda x: 1 if 'vehicle_loss' in x else 0)\n",
    "df['agricultural_damage'] = df['IMPACT_PREDICTORS'].apply(str).apply(lambda x: 1 if 'animal_loss' in x else 0)\n",
    "df['campground_damage'] = df['IMPACT_PREDICTORS'].apply(str).apply(lambda x: 1 if 'tree_damage' in x else 0)\n",
    "\n",
    "#weather events\n",
    "df['thunderstorm'] = df['weather_events'].apply(str).apply(lambda x: 1 if 'thunderstorm' in x else 0)\n",
    "df['hurricane'] = df['weather_events'].apply(str).apply(lambda x: 1 if 'hurricane' in x else 0)\n",
    "df['tornado'] = df['weather_events'].apply(str).apply(lambda x: 1 if 'thunderstorm' in x else 0)\n",
    "df['lightning'] = df['weather_events'].apply(str).apply(lambda x: 1 if 'thunderstorm' in x else 0)\n",
    "df['mudslide'] = df['weather_events'].apply(str).apply(lambda x: 1 if 'mudslide' in x else 0)"
   ]
  },
  {
   "cell_type": "code",
   "execution_count": 8,
   "id": "c4407a02",
   "metadata": {},
   "outputs": [
    {
     "data": {
      "text/html": [
       "<div>\n",
       "<style scoped>\n",
       "    .dataframe tbody tr th:only-of-type {\n",
       "        vertical-align: middle;\n",
       "    }\n",
       "\n",
       "    .dataframe tbody tr th {\n",
       "        vertical-align: top;\n",
       "    }\n",
       "\n",
       "    .dataframe thead th {\n",
       "        text-align: right;\n",
       "    }\n",
       "</style>\n",
       "<table border=\"1\" class=\"dataframe\">\n",
       "  <thead>\n",
       "    <tr style=\"text-align: right;\">\n",
       "      <th></th>\n",
       "      <th>death</th>\n",
       "      <th>injury</th>\n",
       "      <th>evacuation</th>\n",
       "      <th>rescue</th>\n",
       "      <th>car_crash</th>\n",
       "      <th>home_damage</th>\n",
       "      <th>infrastructure_damage</th>\n",
       "      <th>school_damage</th>\n",
       "      <th>hospital_damage</th>\n",
       "      <th>road_closure</th>\n",
       "      <th>power_outage</th>\n",
       "      <th>tree_damage</th>\n",
       "    </tr>\n",
       "  </thead>\n",
       "  <tbody>\n",
       "    <tr>\n",
       "      <th>0</th>\n",
       "      <td>0</td>\n",
       "      <td>0</td>\n",
       "      <td>0</td>\n",
       "      <td>0</td>\n",
       "      <td>0</td>\n",
       "      <td>1</td>\n",
       "      <td>0</td>\n",
       "      <td>0</td>\n",
       "      <td>0</td>\n",
       "      <td>1</td>\n",
       "      <td>0</td>\n",
       "      <td>0</td>\n",
       "    </tr>\n",
       "    <tr>\n",
       "      <th>1</th>\n",
       "      <td>0</td>\n",
       "      <td>0</td>\n",
       "      <td>0</td>\n",
       "      <td>0</td>\n",
       "      <td>0</td>\n",
       "      <td>0</td>\n",
       "      <td>0</td>\n",
       "      <td>0</td>\n",
       "      <td>0</td>\n",
       "      <td>1</td>\n",
       "      <td>0</td>\n",
       "      <td>0</td>\n",
       "    </tr>\n",
       "    <tr>\n",
       "      <th>2</th>\n",
       "      <td>0</td>\n",
       "      <td>0</td>\n",
       "      <td>0</td>\n",
       "      <td>0</td>\n",
       "      <td>0</td>\n",
       "      <td>0</td>\n",
       "      <td>0</td>\n",
       "      <td>0</td>\n",
       "      <td>0</td>\n",
       "      <td>1</td>\n",
       "      <td>1</td>\n",
       "      <td>1</td>\n",
       "    </tr>\n",
       "    <tr>\n",
       "      <th>3</th>\n",
       "      <td>0</td>\n",
       "      <td>0</td>\n",
       "      <td>0</td>\n",
       "      <td>0</td>\n",
       "      <td>0</td>\n",
       "      <td>0</td>\n",
       "      <td>0</td>\n",
       "      <td>0</td>\n",
       "      <td>0</td>\n",
       "      <td>1</td>\n",
       "      <td>1</td>\n",
       "      <td>0</td>\n",
       "    </tr>\n",
       "    <tr>\n",
       "      <th>4</th>\n",
       "      <td>0</td>\n",
       "      <td>0</td>\n",
       "      <td>0</td>\n",
       "      <td>0</td>\n",
       "      <td>0</td>\n",
       "      <td>0</td>\n",
       "      <td>1</td>\n",
       "      <td>0</td>\n",
       "      <td>0</td>\n",
       "      <td>1</td>\n",
       "      <td>0</td>\n",
       "      <td>0</td>\n",
       "    </tr>\n",
       "  </tbody>\n",
       "</table>\n",
       "</div>"
      ],
      "text/plain": [
       "   death  injury  evacuation  rescue  car_crash  home_damage  \\\n",
       "0      0       0           0       0          0            1   \n",
       "1      0       0           0       0          0            0   \n",
       "2      0       0           0       0          0            0   \n",
       "3      0       0           0       0          0            0   \n",
       "4      0       0           0       0          0            0   \n",
       "\n",
       "   infrastructure_damage  school_damage  hospital_damage  road_closure  \\\n",
       "0                      0              0                0             1   \n",
       "1                      0              0                0             1   \n",
       "2                      0              0                0             1   \n",
       "3                      0              0                0             1   \n",
       "4                      1              0                0             1   \n",
       "\n",
       "   power_outage  tree_damage  \n",
       "0             0            0  \n",
       "1             0            0  \n",
       "2             1            1  \n",
       "3             1            0  \n",
       "4             0            0  "
      ]
     },
     "execution_count": 8,
     "metadata": {},
     "output_type": "execute_result"
    }
   ],
   "source": [
    "#check columns\n",
    "df[['death','injury','evacuation','rescue','car_crash','home_damage','infrastructure_damage','school_damage','hospital_damage','road_closure','power_outage','tree_damage']].head()"
   ]
  },
  {
   "cell_type": "markdown",
   "id": "8e43395f",
   "metadata": {},
   "source": [
    "<a id=\"sec3\"></a>\n",
    "## **NLTK STUFF LMAO**"
   ]
  },
  {
   "cell_type": "markdown",
   "id": "52750cee",
   "metadata": {},
   "source": [
    "### Stemming"
   ]
  },
  {
   "cell_type": "code",
   "execution_count": null,
   "id": "2308888c",
   "metadata": {},
   "outputs": [],
   "source": [
    "from nltk.stem import PorterStemmer"
   ]
  },
  {
   "cell_type": "code",
   "execution_count": null,
   "id": "e359c410",
   "metadata": {},
   "outputs": [],
   "source": [
    "stemmer = PorterStemmer()\n",
    "stemmed_tokens = [stemmer.stem(word) for word in filtered_tokens]\n",
    "#print(stemmed_tokens)"
   ]
  }
 ],
 "metadata": {
  "kernelspec": {
   "display_name": "Python 3",
   "language": "python",
   "name": "python3"
  },
  "language_info": {
   "codemirror_mode": {
    "name": "ipython",
    "version": 3
   },
   "file_extension": ".py",
   "mimetype": "text/x-python",
   "name": "python",
   "nbconvert_exporter": "python",
   "pygments_lexer": "ipython3",
   "version": "3.11.9"
  }
 },
 "nbformat": 4,
 "nbformat_minor": 5
}
